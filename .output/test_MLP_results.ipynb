{
 "cells": [
  {
   "cell_type": "code",
   "execution_count": 6,
   "metadata": {},
   "outputs": [
    {
     "name": "stdout",
     "output_type": "stream",
     "text": [
      "File not found: .output/initial_noise_tensor.pt\n",
      "File not found: .output/final_samples_tensor.pt\n"
     ]
    },
    {
     "name": "stderr",
     "output_type": "stream",
     "text": [
      "/tmp/ipykernel_2208450/4206178227.py:10: FutureWarning: You are using `torch.load` with `weights_only=False` (the current default value), which uses the default pickle module implicitly. It is possible to construct malicious pickle data which will execute arbitrary code during unpickling (See https://github.com/pytorch/pytorch/blob/main/SECURITY.md#untrusted-models for more details). In a future release, the default value for `weights_only` will be flipped to `True`. This limits the functions that could be executed during unpickling. Arbitrary objects will no longer be allowed to be loaded via this mode unless they are explicitly allowlisted by the user via `torch.serialization.add_safe_globals`. We recommend you start setting `weights_only=True` for any use case where you don't have full control of the loaded file. Please open an issue on GitHub for any issues related to this experimental feature.\n",
      "  return torch.load(file_path, map_location='cpu')\n"
     ]
    }
   ],
   "source": [
    "import torch\n",
    "import matplotlib.pyplot as plt\n",
    "\n",
    "# Use the correct relative paths for the .pt files\n",
    "noise_file = \"initial_noise_tensor.pt\"\n",
    "result_file =\"final_samples_tensor.pt\"\n",
    "\n",
    "# Helper function to load tensors from .pt files\n",
    "def load_tensor(file_path):\n",
    "    return torch.load(file_path, map_location='cpu')\n",
    "\n",
    "# Plotting function\n",
    "def plot_tensor(tensor, title):\n",
    "    if tensor.ndim == 1:\n",
    "        plt.plot(tensor.numpy())\n",
    "    elif tensor.ndim == 2:\n",
    "        plt.imshow(tensor.numpy(), aspect='auto', cmap='viridis')\n",
    "        plt.colorbar()\n",
    "    else:\n",
    "        # For 3D or 4D tensors, show the first image/channel\n",
    "        if tensor.ndim == 3:\n",
    "            plt.imshow(tensor[0].numpy(), aspect='auto', cmap='viridis')\n",
    "        elif tensor.ndim == 4:\n",
    "            plt.imshow(tensor[0, 0].numpy(), aspect='auto', cmap='viridis')\n",
    "        else:\n",
    "            plt.imshow(tensor.numpy(), aspect='auto', cmap='viridis')\n",
    "        plt.colorbar()\n",
    "    plt.title(title)\n",
    "    plt.show()\n",
    "\n",
    "# Plot the initial noise tensor\n",
    "try:\n",
    "    noise_tensor = load_tensor(noise_file)\n",
    "    plot_tensor(noise_tensor, f\"Noise: {noise_file}\")\n",
    "except FileNotFoundError:\n",
    "    print(f\"File not found: {noise_file}\")\n",
    "\n",
    "# Plot the final samples tensor\n",
    "try:\n",
    "    result_tensor = load_tensor(result_file)\n",
    "    plot_tensor(result_tensor, f\"Model Result: {result_file}\")\n",
    "except FileNotFoundError:\n",
    "    print(f\"File not found: {result_file}\")\n"
   ]
  },
  {
   "cell_type": "code",
   "execution_count": null,
   "metadata": {},
   "outputs": [],
   "source": []
  }
 ],
 "metadata": {
  "kernelspec": {
   "display_name": "venv",
   "language": "python",
   "name": "python3"
  },
  "language_info": {
   "codemirror_mode": {
    "name": "ipython",
    "version": 3
   },
   "file_extension": ".py",
   "mimetype": "text/x-python",
   "name": "python",
   "nbconvert_exporter": "python",
   "pygments_lexer": "ipython3",
   "version": "3.12.9"
  }
 },
 "nbformat": 4,
 "nbformat_minor": 2
}
